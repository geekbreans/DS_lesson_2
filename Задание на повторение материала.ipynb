{
 "cells": [
  {
   "cell_type": "code",
   "execution_count": 45,
   "metadata": {},
   "outputs": [
    {
     "data": {
      "text/plain": [
       "array([12, 13, 14, 15, 16, 17, 18, 19, 20, 21, 22, 23])"
      ]
     },
     "execution_count": 45,
     "metadata": {},
     "output_type": "execute_result"
    }
   ],
   "source": [
    "import numpy as np\n",
    "import random\n",
    "from numpy import linalg as la\n",
    "\n",
    "#1 Создать одномерный массив Numpy под названием a из 12 последовательных целых чисел чисел от 12 до 24 невключительно\n",
    "a = np.arange(12, 24, 1)\n",
    "a"
   ]
  },
  {
   "cell_type": "code",
   "execution_count": 46,
   "metadata": {},
   "outputs": [
    {
     "data": {
      "text/plain": [
       "array([[12, 13, 14, 15, 16],\n",
       "       [18, 19, 20, 21, 22]])"
      ]
     },
     "execution_count": 46,
     "metadata": {},
     "output_type": "execute_result"
    }
   ],
   "source": [
    "#2 Создать 5 двумерных массивов разной формы из массива a. Не использовать в аргументах метода reshape число -1.\n",
    "b1 = np.array([list(a[0:1:1]), list(a[6:7:1])] )\n",
    "b1\n",
    "b2 = np.array([list(a[0:2:1]), list(a[6:8:1])] )\n",
    "b2\n",
    "b3 = np.array([list(a[0:3:1]), list(a[6:9:1])] )\n",
    "b3\n",
    "b4 = np.array([list(a[0:4:1]), list(a[6:10:1])] )\n",
    "b4\n",
    "b5 = np.array([list(a[0:5:1]), list(a[6:11:1])] )\n",
    "b5"
   ]
  },
  {
   "cell_type": "code",
   "execution_count": 48,
   "metadata": {},
   "outputs": [
    {
     "data": {
      "text/plain": [
       "[array([[12],\n",
       "        [18]]),\n",
       " array([[12, 13],\n",
       "        [18, 19]]),\n",
       " array([[12, 13, 14],\n",
       "        [18, 19, 20]]),\n",
       " array([[12, 13, 14, 15],\n",
       "        [18, 19, 20, 21]]),\n",
       " array([[12, 13, 14, 15, 16],\n",
       "        [18, 19, 20, 21, 22]])]"
      ]
     },
     "execution_count": 48,
     "metadata": {},
     "output_type": "execute_result"
    }
   ],
   "source": [
    "#2 Создать 5 двумерных массивов разной формы из массива a. Не использовать в аргументах метода reshape число -1.\n",
    "c = []\n",
    "for i in range(1, 6):\n",
    "    c.append(np.array([list(a[0:i:1]), list(a[6:6+i:1])]))\n",
    "c"
   ]
  },
  {
   "cell_type": "code",
   "execution_count": 50,
   "metadata": {},
   "outputs": [
    {
     "data": {
      "text/plain": [
       "[array([[13, 14],\n",
       "        [18, 19]]),\n",
       " array([[14, 15],\n",
       "        [19, 20]]),\n",
       " array([[15, 16],\n",
       "        [20, 21]]),\n",
       " array([[16, 17],\n",
       "        [21, 22]]),\n",
       " array([[17, 18],\n",
       "        [22, 23]])]"
      ]
     },
     "execution_count": 50,
     "metadata": {},
     "output_type": "execute_result"
    }
   ],
   "source": [
    "#3 Создать 5 двумерных массивов разной формы из массива a. Использовать в аргументах метода reshape число -1 (в трех примерах - для обозначения числа столбцов, в двух - для строк).\n",
    "c = []\n",
    "for i in range(1, 6):\n",
    "    c.append(np.array([list(a[i:i+2:1]), list(a[5+i:7+i:1])]))\n",
    "c"
   ]
  },
  {
   "cell_type": "code",
   "execution_count": null,
   "metadata": {},
   "outputs": [],
   "source": [
    "#4 Можно ли массив Numpy, состоящий из одного столбца и 12 строк, назвать одномерным?\n",
    "# ДА!"
   ]
  },
  {
   "cell_type": "code",
   "execution_count": 67,
   "metadata": {},
   "outputs": [
    {
     "data": {
      "text/plain": [
       "[0.40577038911801544,\n",
       " -1.2051390643759796,\n",
       " -0.2396958812723654,\n",
       " -0.262273606616705,\n",
       " -1.205822261069534,\n",
       " 0.7749690784211252,\n",
       " -1.8956294852584576,\n",
       " -0.44249942205109194,\n",
       " -0.6792165820564782,\n",
       " 0.9602597604339129,\n",
       " -1.3319318970386982,\n",
       " -0.7301841958932866]"
      ]
     },
     "execution_count": 67,
     "metadata": {},
     "output_type": "execute_result"
    }
   ],
   "source": [
    "#5Создать массив из 3 строк и 4 столбцов, состоящий из случайных чисел с плавающей запятой из нормального распределения со средним, равным 0 и среднеквадратичным отклонением, равным 1.0. Получить из этого массива одномерный массив с таким же атрибутом size, как и исходный массив\n",
    "mu = 0\n",
    "sigma = 1.0\n",
    "c = []\n",
    "for i in range(1, 13):\n",
    "    c.append(random.normalvariate(mu, sigma))\n",
    "\n",
    "\n",
    "b1 = np.array([list(c[0:4:1]), list(c[4:8:1]), list(c[8:12:1]) ] )\n",
    "\n",
    "\n",
    "c1=[]\n",
    "for i in range(len(b1)):\n",
    "    for j in range (len(b1[i])):\n",
    "        c1.append(b1[i][j])\n",
    "        \n",
    "c1    "
   ]
  },
  {
   "cell_type": "code",
   "execution_count": 66,
   "metadata": {},
   "outputs": [
    {
     "data": {
      "text/plain": [
       "array([20, 18, 16, 14, 12, 10,  8,  6,  4,  2])"
      ]
     },
     "execution_count": 66,
     "metadata": {},
     "output_type": "execute_result"
    }
   ],
   "source": [
    "#6Создать массив a, состоящий из целых чисел, убывающих от 20 до 0 невключительно с интервалом 2.\n",
    "a = np.arange(20, 0, -2)\n",
    "a"
   ]
  },
  {
   "cell_type": "code",
   "execution_count": 69,
   "metadata": {},
   "outputs": [
    {
     "data": {
      "text/plain": [
       "array([20, 18, 16, 14, 12, 10,  8,  6,  4,  2])"
      ]
     },
     "execution_count": 69,
     "metadata": {},
     "output_type": "execute_result"
    }
   ],
   "source": [
    "#7Создать массив b, состоящий из 1 строки и 10 столбцов: целых чисел, убывающих от 20 до 1 невключительно с интервалом 2. В чем разница между массивами a и b?\n",
    "b = np.arange(20, 1, -2)\n",
    "b"
   ]
  },
  {
   "cell_type": "code",
   "execution_count": 53,
   "metadata": {},
   "outputs": [
    {
     "data": {
      "text/plain": [
       "array([[ 0,  1,  2],\n",
       "       [ 3,  4,  5],\n",
       "       [ 6,  7,  8],\n",
       "       [ 9, 10, 11]])"
      ]
     },
     "execution_count": 53,
     "metadata": {},
     "output_type": "execute_result"
    }
   ],
   "source": [
    "#9\n",
    "d = np.arange(0, 12, 1)\n",
    "A = np.array([list(d[0:3:1]), list(d[3:6:1]), list(d[6:9:1]),list(d[9:12:1])])\n",
    "A"
   ]
  },
  {
   "cell_type": "code",
   "execution_count": 56,
   "metadata": {},
   "outputs": [
    {
     "data": {
      "text/plain": [
       "array([[ 0,  3,  6,  9],\n",
       "       [ 1,  4,  7, 10],\n",
       "       [ 2,  5,  8, 11]])"
      ]
     },
     "execution_count": 56,
     "metadata": {},
     "output_type": "execute_result"
    }
   ],
   "source": [
    "At = A.transpose()\n",
    "At"
   ]
  },
  {
   "cell_type": "code",
   "execution_count": 57,
   "metadata": {},
   "outputs": [
    {
     "data": {
      "text/plain": [
       "array([[ 0,  1,  2],\n",
       "       [ 3,  4,  5],\n",
       "       [ 6,  7,  8],\n",
       "       [ 9, 10, 11]])"
      ]
     },
     "execution_count": 57,
     "metadata": {},
     "output_type": "execute_result"
    }
   ],
   "source": [
    "B = np.matmul(A, At, out=None)\n",
    "B\n",
    "A"
   ]
  },
  {
   "cell_type": "code",
   "execution_count": 50,
   "metadata": {},
   "outputs": [
    {
     "ename": "LinAlgError",
     "evalue": "1-dimensional array given. Array must be at least two-dimensional",
     "output_type": "error",
     "traceback": [
      "\u001b[1;31m---------------------------------------------------------------------------\u001b[0m",
      "\u001b[1;31mLinAlgError\u001b[0m                               Traceback (most recent call last)",
      "\u001b[1;32m<ipython-input-50-ed576152624e>\u001b[0m in \u001b[0;36m<module>\u001b[1;34m\u001b[0m\n\u001b[1;32m----> 1\u001b[1;33m \u001b[0mB_inv\u001b[0m \u001b[1;33m=\u001b[0m \u001b[0mla\u001b[0m\u001b[1;33m.\u001b[0m\u001b[0minv\u001b[0m\u001b[1;33m(\u001b[0m\u001b[0mB\u001b[0m\u001b[1;33m)\u001b[0m\u001b[1;33m\u001b[0m\u001b[1;33m\u001b[0m\u001b[0m\n\u001b[0m\u001b[0;32m      2\u001b[0m \u001b[0mB_inv\u001b[0m\u001b[1;33m\u001b[0m\u001b[1;33m\u001b[0m\u001b[0m\n\u001b[0;32m      3\u001b[0m \u001b[0mB\u001b[0m\u001b[1;33m\u001b[0m\u001b[1;33m\u001b[0m\u001b[0m\n\u001b[0;32m      4\u001b[0m \u001b[1;31m#ОБРАТНАЯ МАТРИЦА НЕ СУЩЕСИТВУЕТ МАТРИЦА СИНГУЛЯРНАЯ\u001b[0m\u001b[1;33m\u001b[0m\u001b[1;33m\u001b[0m\u001b[1;33m\u001b[0m\u001b[0m\n\u001b[0;32m      5\u001b[0m \u001b[1;33m\u001b[0m\u001b[0m\n",
      "\u001b[1;32m<__array_function__ internals>\u001b[0m in \u001b[0;36minv\u001b[1;34m(*args, **kwargs)\u001b[0m\n",
      "\u001b[1;32mC:\\ProgramData\\Anaconda3\\lib\\site-packages\\numpy\\linalg\\linalg.py\u001b[0m in \u001b[0;36minv\u001b[1;34m(a)\u001b[0m\n\u001b[0;32m    538\u001b[0m     \"\"\"\n\u001b[0;32m    539\u001b[0m     \u001b[0ma\u001b[0m\u001b[1;33m,\u001b[0m \u001b[0mwrap\u001b[0m \u001b[1;33m=\u001b[0m \u001b[0m_makearray\u001b[0m\u001b[1;33m(\u001b[0m\u001b[0ma\u001b[0m\u001b[1;33m)\u001b[0m\u001b[1;33m\u001b[0m\u001b[1;33m\u001b[0m\u001b[0m\n\u001b[1;32m--> 540\u001b[1;33m     \u001b[0m_assert_stacked_2d\u001b[0m\u001b[1;33m(\u001b[0m\u001b[0ma\u001b[0m\u001b[1;33m)\u001b[0m\u001b[1;33m\u001b[0m\u001b[1;33m\u001b[0m\u001b[0m\n\u001b[0m\u001b[0;32m    541\u001b[0m     \u001b[0m_assert_stacked_square\u001b[0m\u001b[1;33m(\u001b[0m\u001b[0ma\u001b[0m\u001b[1;33m)\u001b[0m\u001b[1;33m\u001b[0m\u001b[1;33m\u001b[0m\u001b[0m\n\u001b[0;32m    542\u001b[0m     \u001b[0mt\u001b[0m\u001b[1;33m,\u001b[0m \u001b[0mresult_t\u001b[0m \u001b[1;33m=\u001b[0m \u001b[0m_commonType\u001b[0m\u001b[1;33m(\u001b[0m\u001b[0ma\u001b[0m\u001b[1;33m)\u001b[0m\u001b[1;33m\u001b[0m\u001b[1;33m\u001b[0m\u001b[0m\n",
      "\u001b[1;32mC:\\ProgramData\\Anaconda3\\lib\\site-packages\\numpy\\linalg\\linalg.py\u001b[0m in \u001b[0;36m_assert_stacked_2d\u001b[1;34m(*arrays)\u001b[0m\n\u001b[0;32m    195\u001b[0m     \u001b[1;32mfor\u001b[0m \u001b[0ma\u001b[0m \u001b[1;32min\u001b[0m \u001b[0marrays\u001b[0m\u001b[1;33m:\u001b[0m\u001b[1;33m\u001b[0m\u001b[1;33m\u001b[0m\u001b[0m\n\u001b[0;32m    196\u001b[0m         \u001b[1;32mif\u001b[0m \u001b[0ma\u001b[0m\u001b[1;33m.\u001b[0m\u001b[0mndim\u001b[0m \u001b[1;33m<\u001b[0m \u001b[1;36m2\u001b[0m\u001b[1;33m:\u001b[0m\u001b[1;33m\u001b[0m\u001b[1;33m\u001b[0m\u001b[0m\n\u001b[1;32m--> 197\u001b[1;33m             raise LinAlgError('%d-dimensional array given. Array must be '\n\u001b[0m\u001b[0;32m    198\u001b[0m                     'at least two-dimensional' % a.ndim)\n\u001b[0;32m    199\u001b[0m \u001b[1;33m\u001b[0m\u001b[0m\n",
      "\u001b[1;31mLinAlgError\u001b[0m: 1-dimensional array given. Array must be at least two-dimensional"
     ]
    }
   ],
   "source": [
    "B_inv = la.inv(B)\n",
    "B_inv\n",
    "#ОБРАТНАЯ МАТРИЦА НЕ СУЩЕСИТВУЕТ МАТРИЦА СИНГУЛЯРНАЯ\n",
    "\n"
   ]
  },
  {
   "cell_type": "code",
   "execution_count": 87,
   "metadata": {},
   "outputs": [
    {
     "data": {
      "text/plain": [
       "0.0"
      ]
     },
     "execution_count": 87,
     "metadata": {},
     "output_type": "execute_result"
    }
   ],
   "source": [
    "# детерминант равен нулю  обратная матрица не существует\n",
    "la.det(B)"
   ]
  },
  {
   "cell_type": "code",
   "execution_count": 58,
   "metadata": {},
   "outputs": [
    {
     "data": {
      "text/plain": [
       "0.6394267984578837"
      ]
     },
     "execution_count": 58,
     "metadata": {},
     "output_type": "execute_result"
    }
   ],
   "source": [
    "#10 Инициализируйте генератор случайных числе с помощью объекта seed, равного 42.\n",
    "random.seed(42)\n",
    "random.random()"
   ]
  },
  {
   "cell_type": "code",
   "execution_count": 69,
   "metadata": {},
   "outputs": [
    {
     "data": {
      "text/plain": [
       "array([13,  7, 14,  8,  0,  5, 13, 10,  8,  4,  6, 10,  3,  2, 12,  3])"
      ]
     },
     "execution_count": 69,
     "metadata": {},
     "output_type": "execute_result"
    }
   ],
   "source": [
    "#Создайте одномерный массив c, составленный из последовательности 16-ти случайных равномерно распределенных целых чисел от 0 до 16 невключительно. \n",
    "mas=[] \n",
    "for i in range(16): \n",
    "    mas.append(random.randint(0, 16))\n",
    "\n",
    "m = np.array(mas)\n",
    "m"
   ]
  },
  {
   "cell_type": "code",
   "execution_count": 70,
   "metadata": {},
   "outputs": [
    {
     "data": {
      "text/plain": [
       "array([[[13,  7, 14,  8,  0,  5, 13, 10,  8,  4,  6, 10,  3,  2, 12,  3]],\n",
       "\n",
       "       [[13,  7, 14,  8,  0,  5, 13, 10,  8,  4,  6, 10,  3,  2, 12,  3]],\n",
       "\n",
       "       [[13,  7, 14,  8,  0,  5, 13, 10,  8,  4,  6, 10,  3,  2, 12,  3]],\n",
       "\n",
       "       [[13,  7, 14,  8,  0,  5, 13, 10,  8,  4,  6, 10,  3,  2, 12,  3]],\n",
       "\n",
       "       [[13,  7, 14,  8,  0,  5, 13, 10,  8,  4,  6, 10,  3,  2, 12,  3]],\n",
       "\n",
       "       [[13,  7, 14,  8,  0,  5, 13, 10,  8,  4,  6, 10,  3,  2, 12,  3]],\n",
       "\n",
       "       [[13,  7, 14,  8,  0,  5, 13, 10,  8,  4,  6, 10,  3,  2, 12,  3]],\n",
       "\n",
       "       [[13,  7, 14,  8,  0,  5, 13, 10,  8,  4,  6, 10,  3,  2, 12,  3]],\n",
       "\n",
       "       [[13,  7, 14,  8,  0,  5, 13, 10,  8,  4,  6, 10,  3,  2, 12,  3]],\n",
       "\n",
       "       [[13,  7, 14,  8,  0,  5, 13, 10,  8,  4,  6, 10,  3,  2, 12,  3]],\n",
       "\n",
       "       [[13,  7, 14,  8,  0,  5, 13, 10,  8,  4,  6, 10,  3,  2, 12,  3]],\n",
       "\n",
       "       [[13,  7, 14,  8,  0,  5, 13, 10,  8,  4,  6, 10,  3,  2, 12,  3]],\n",
       "\n",
       "       [[13,  7, 14,  8,  0,  5, 13, 10,  8,  4,  6, 10,  3,  2, 12,  3]],\n",
       "\n",
       "       [[13,  7, 14,  8,  0,  5, 13, 10,  8,  4,  6, 10,  3,  2, 12,  3]],\n",
       "\n",
       "       [[13,  7, 14,  8,  0,  5, 13, 10,  8,  4,  6, 10,  3,  2, 12,  3]],\n",
       "\n",
       "       [[13,  7, 14,  8,  0,  5, 13, 10,  8,  4,  6, 10,  3,  2, 12,  3]]])"
      ]
     },
     "execution_count": 70,
     "metadata": {},
     "output_type": "execute_result"
    }
   ],
   "source": [
    "sam=[] \n",
    "for i in range(16): \n",
    "    sam.append([mas])\n",
    "\n",
    "C= np.array(sam)\n",
    "C"
   ]
  },
  {
   "cell_type": "code",
   "execution_count": 71,
   "metadata": {},
   "outputs": [
    {
     "data": {
      "text/plain": [
       "array([130,  70, 140,  80,   0,  50, 130, 100,  80,  40,  60, 100,  30,\n",
       "        20, 120,  30])"
      ]
     },
     "execution_count": 71,
     "metadata": {},
     "output_type": "execute_result"
    }
   ],
   "source": [
    "B1 = m*10\n",
    "B1"
   ]
  },
  {
   "cell_type": "code",
   "execution_count": 77,
   "metadata": {},
   "outputs": [
    {
     "data": {
      "text/plain": [
       "array([[143, 137, 144, 138, 130, 135, 143, 140, 138, 134, 136, 140, 133,\n",
       "        132, 142, 133],\n",
       "       [143, 137, 144, 138, 130, 135, 143, 140, 138, 134, 136, 140, 133,\n",
       "        132, 142, 133],\n",
       "       [143, 137, 144, 138, 130, 135, 143, 140, 138, 134, 136, 140, 133,\n",
       "        132, 142, 133],\n",
       "       [143, 137, 144, 138, 130, 135, 143, 140, 138, 134, 136, 140, 133,\n",
       "        132, 142, 133],\n",
       "       [143, 137, 144, 138, 130, 135, 143, 140, 138, 134, 136, 140, 133,\n",
       "        132, 142, 133],\n",
       "       [143, 137, 144, 138, 130, 135, 143, 140, 138, 134, 136, 140, 133,\n",
       "        132, 142, 133],\n",
       "       [143, 137, 144, 138, 130, 135, 143, 140, 138, 134, 136, 140, 133,\n",
       "        132, 142, 133],\n",
       "       [143, 137, 144, 138, 130, 135, 143, 140, 138, 134, 136, 140, 133,\n",
       "        132, 142, 133],\n",
       "       [143, 137, 144, 138, 130, 135, 143, 140, 138, 134, 136, 140, 133,\n",
       "        132, 142, 133],\n",
       "       [143, 137, 144, 138, 130, 135, 143, 140, 138, 134, 136, 140, 133,\n",
       "        132, 142, 133],\n",
       "       [143, 137, 144, 138, 130, 135, 143, 140, 138, 134, 136, 140, 133,\n",
       "        132, 142, 133],\n",
       "       [143, 137, 144, 138, 130, 135, 143, 140, 138, 134, 136, 140, 133,\n",
       "        132, 142, 133],\n",
       "       [143, 137, 144, 138, 130, 135, 143, 140, 138, 134, 136, 140, 133,\n",
       "        132, 142, 133],\n",
       "       [143, 137, 144, 138, 130, 135, 143, 140, 138, 134, 136, 140, 133,\n",
       "        132, 142, 133],\n",
       "       [143, 137, 144, 138, 130, 135, 143, 140, 138, 134, 136, 140, 133,\n",
       "        132, 142, 133],\n",
       "       [143, 137, 144, 138, 130, 135, 143, 140, 138, 134, 136, 140, 133,\n",
       "        132, 142, 133]])"
      ]
     },
     "execution_count": 77,
     "metadata": {},
     "output_type": "execute_result"
    }
   ],
   "source": [
    "D=[]\n",
    "for i in range(len(C)):\n",
    "    for j in range (len(C[i])):\n",
    "        D.append(list(C[i][j] + B1[j]))\n",
    "D = np.array(D)    \n",
    "D"
   ]
  },
  {
   "cell_type": "code",
   "execution_count": 76,
   "metadata": {},
   "outputs": [
    {
     "data": {
      "text/plain": [
       "0.0"
      ]
     },
     "execution_count": 76,
     "metadata": {},
     "output_type": "execute_result"
    }
   ],
   "source": [
    "# детерминант равен нулю  обратная матрица не существует для матрицы D\n",
    "la.det(D)"
   ]
  },
  {
   "cell_type": "code",
   "execution_count": null,
   "metadata": {},
   "outputs": [],
   "source": []
  }
 ],
 "metadata": {
  "kernelspec": {
   "display_name": "Python 3",
   "language": "python",
   "name": "python3"
  },
  "language_info": {
   "codemirror_mode": {
    "name": "ipython",
    "version": 3
   },
   "file_extension": ".py",
   "mimetype": "text/x-python",
   "name": "python",
   "nbconvert_exporter": "python",
   "pygments_lexer": "ipython3",
   "version": "3.8.5"
  }
 },
 "nbformat": 4,
 "nbformat_minor": 4
}
